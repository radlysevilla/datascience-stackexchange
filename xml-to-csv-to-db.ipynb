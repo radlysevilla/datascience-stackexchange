{
 "cells": [
  {
   "cell_type": "code",
   "execution_count": 1,
   "id": "5a62e977",
   "metadata": {
    "ExecuteTime": {
     "end_time": "2021-04-10T09:53:19.537206Z",
     "start_time": "2021-04-10T09:53:19.104366Z"
    }
   },
   "outputs": [],
   "source": [
    "import xml.etree.ElementTree as et\n",
    "import pandas as pd\n",
    "import os\n",
    "import sqlite3\n",
    "import csv\n",
    "import glob"
   ]
  },
  {
   "cell_type": "markdown",
   "id": "2630d895",
   "metadata": {},
   "source": [
    "<h3> The next cells are for converting the downloaded XML file to CSV. The given file to me was corrupted.</h3>"
   ]
  },
  {
   "cell_type": "code",
   "execution_count": 2,
   "id": "1262e93e",
   "metadata": {
    "ExecuteTime": {
     "end_time": "2021-04-10T09:53:21.429145Z",
     "start_time": "2021-04-10T09:53:19.538204Z"
    }
   },
   "outputs": [],
   "source": [
    "cols = [\"Id\", \"Reputation\", \"CreationDate\", \"DisplayName\", \n",
    "        \"LastAccessDate\",\"WebsiteUrl\", \"AboutMe\", \"Location\",\n",
    "        \"Views\", \"UpVotes\", \"DownVotes\", \"AccountId\"]\n",
    "rows = []\n",
    "  \n",
    "# Parsing the XML file\n",
    "path = os.getcwd()\n",
    "dataPath = path + '\\datascience.stackexchange.com\\\\'\n",
    "xmlName = 'Users'\n",
    "dataPath = dataPath + xmlName +'.xml'\n",
    "savePath = path + '\\csv\\\\' + xmlName + '.csv'\n",
    "\n",
    "\n",
    "xmlparse = et.parse(dataPath)\n",
    "root = xmlparse.getroot()\n",
    "\n",
    "for node in root:\n",
    "    id_ = node.attrib.get(\"Id\")\n",
    "    reputation = node.attrib.get(\"Reputation\")\n",
    "    creationDate = node.attrib.get(\"CreationDate\")\n",
    "    displayName = node.attrib.get(\"DisplayName\")\n",
    "    lastAccessDate = node.attrib.get(\"LastAccessDate\")\n",
    "    websiteUrl = node.attrib.get(\"WebsiteUrl\")\n",
    "    aboutMe = node.attrib.get(\"AboutMe\")\n",
    "    location = node.attrib.get(\"Location\")\n",
    "    views = node.attrib.get(\"Views\")\n",
    "    upVotes = node.attrib.get(\"UpVotes\")\n",
    "    downVotes = node.attrib.get(\"DownVotes\")\n",
    "    accountId = node.attrib.get(\"AccountId\")\n",
    "    \n",
    "    \n",
    "\n",
    "    rows.append({\"Id\": id_,\n",
    "                \"Reputation\": reputation,\n",
    "                \"CreationDate\": creationDate,\n",
    "                \"DisplayName\": displayName,\n",
    "                 \"LastAccessDate\":lastAccessDate, \n",
    "                 \"WebsiteUrl\":websiteUrl,\n",
    "                 \"AboutMe\":aboutMe,\n",
    "                 \"Location\":location,\n",
    "                 \"Views\":views,\n",
    "                 \"UpVotes\":upVotes,\n",
    "                 \"DownVotes\":downVotes,\n",
    "                 \"AccountId\":accountId            \n",
    "                })\n",
    "  \n",
    "df = pd.DataFrame(rows, columns=cols,)\n",
    "df.to_csv(savePath,index=False)"
   ]
  },
  {
   "cell_type": "code",
   "execution_count": 3,
   "id": "05fb04ea",
   "metadata": {
    "ExecuteTime": {
     "end_time": "2021-04-10T09:53:23.005926Z",
     "start_time": "2021-04-10T09:53:21.431140Z"
    }
   },
   "outputs": [],
   "source": [
    "cols = [\"Id\", \"PostId\", \"VoteTypeId\", \"CreationDate\"]\n",
    "rows = []\n",
    "  \n",
    "# Parsing the XML file\n",
    "dataPath = path + '\\datascience.stackexchange.com\\\\'\n",
    "xmlName = 'Votes'\n",
    "dataPath = dataPath + xmlName +'.xml'\n",
    "savePath = path + '\\csv\\\\' + xmlName + '.csv'\n",
    "\n",
    "\n",
    "xmlparse = et.parse(dataPath)\n",
    "root = xmlparse.getroot()\n",
    "\n",
    "for node in root:\n",
    "    id_ = node.attrib.get(\"Id\")\n",
    "    postId = node.attrib.get(\"PostId\")\n",
    "    voteTypeId = node.attrib.get(\"VoteTypeId\")\n",
    "    creationDate = node.attrib.get(\"CreationDate\")\n",
    "    \n",
    "\n",
    "    rows.append({\"Id\": id_,\n",
    "                \"PostId\": postId,\n",
    "                \"VoteTypeId\": voteTypeId,\n",
    "                \"CreationDate\": creationDate          \n",
    "                })\n",
    "  \n",
    "df = pd.DataFrame(rows, columns=cols,)\n",
    "df.to_csv(savePath,index=False)\n"
   ]
  },
  {
   "cell_type": "code",
   "execution_count": 4,
   "id": "0e6723db",
   "metadata": {
    "ExecuteTime": {
     "end_time": "2021-04-10T09:53:23.115633Z",
     "start_time": "2021-04-10T09:53:23.006924Z"
    }
   },
   "outputs": [],
   "source": [
    "cols = [\"Id\", \"TagName\", \"Count\", \"ExcerptPostId\", \"WikiPostId\"]\n",
    "rows = []\n",
    "  \n",
    "# Parsing the XML file\n",
    "dataPath = path + '\\datascience.stackexchange.com\\\\'\n",
    "xmlName = 'Tags'\n",
    "dataPath = dataPath + xmlName +'.xml'\n",
    "savePath = path + '\\csv\\\\' + xmlName + '.csv'\n",
    "\n",
    "xmlparse = et.parse(dataPath)\n",
    "root = xmlparse.getroot()\n",
    "\n",
    "for node in root:\n",
    "    id_ = node.attrib.get(\"Id\")\n",
    "    tagName = node.attrib.get(\"TagName\")\n",
    "    count = node.attrib.get(\"Count\")\n",
    "    excerptPostId = node.attrib.get(\"ExcerptPostId\")\n",
    "    wikiPostId = node.attrib.get(\"WikiPostId\")\n",
    "\n",
    "    rows.append({\"Id\": id_,\n",
    "                \"TagName\": tagName,\n",
    "                \"Count\": count,\n",
    "                \"ExcerptPostId\": excerptPostId,\n",
    "                \"WikiPostId\": wikiPostId,\n",
    "                })\n",
    "  \n",
    "df = pd.DataFrame(rows, columns=cols,)\n",
    "df.to_csv(savePath,index=False)\n"
   ]
  },
  {
   "cell_type": "markdown",
   "id": "9ddcc76f",
   "metadata": {},
   "source": [
    "<h3> For storing all the CSVs as table into one database (.db). </h3>"
   ]
  },
  {
   "cell_type": "code",
   "execution_count": 5,
   "id": "4a8eee96",
   "metadata": {
    "ExecuteTime": {
     "end_time": "2021-04-10T09:53:59.277874Z",
     "start_time": "2021-04-10T09:53:23.117651Z"
    }
   },
   "outputs": [],
   "source": [
    "def do_directory(dirname, db):\n",
    "    for filename in glob.glob(os.path.join(dirname, '*.csv')):\n",
    "        do_file(filename, db)\n",
    "\n",
    "def do_file(filename, db):\n",
    "    with open(filename, encoding='utf8') as f:\n",
    "        with db:\n",
    "            data = csv.DictReader(f)\n",
    "            cols = data.fieldnames\n",
    "            table=os.path.splitext(os.path.basename(filename))[0]\n",
    "\n",
    "            sql = 'drop table if exists \"{}\"'.format(table)\n",
    "            db.execute(sql)\n",
    "\n",
    "            sql = 'create table \"{table}\" ( {cols} )'.format(\n",
    "                table=table,\n",
    "                cols = ','.join('\"{}\" \"{}\"'.format(col, pd.read_csv(f.name)[col].dtype) for col in cols))\n",
    "                #cols=','.join('\"{}\"'.format(col) for col in cols))\n",
    "            db.execute(sql)\n",
    "\n",
    "            sql = 'insert into \"{table}\" values ( {vals} )'.format(\n",
    "                table=table,\n",
    "                vals=','.join('?' for col in cols))\n",
    "            db.executemany(sql, (list(map(row.get, cols)) for row in data))\n",
    "            \n",
    "def read_all_tables(connection):\n",
    "    files_dict = {}\n",
    "    db_tables = pd.read_sql_query(\"SELECT name FROM sqlite_master WHERE type='table'\", connection)\n",
    "    for table in db_tables['name']:\n",
    "        files_dict[table] = read_table(table, connection)\n",
    "    return files_dict\n",
    "def read_table(table_name, connection):\n",
    "     return pd.read_sql_query(\"SELECT * from {}\".format(table_name), connection)\n",
    "\n",
    "conn = sqlite3.connect('datascience-stackexchange.db')\n",
    "do_directory('.\\csv', conn)\n",
    "files_df = read_all_tables(conn)"
   ]
  }
 ],
 "metadata": {
  "kernelspec": {
   "display_name": "Python 3",
   "language": "python",
   "name": "python3"
  },
  "language_info": {
   "codemirror_mode": {
    "name": "ipython",
    "version": 3
   },
   "file_extension": ".py",
   "mimetype": "text/x-python",
   "name": "python",
   "nbconvert_exporter": "python",
   "pygments_lexer": "ipython3",
   "version": "3.8.8"
  }
 },
 "nbformat": 4,
 "nbformat_minor": 5
}
