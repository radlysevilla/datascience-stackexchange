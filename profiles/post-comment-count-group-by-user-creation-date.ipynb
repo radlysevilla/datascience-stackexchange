{
 "cells": [
  {
   "cell_type": "code",
   "execution_count": 1,
   "id": "13737ff8",
   "metadata": {
    "ExecuteTime": {
     "end_time": "2021-04-10T09:55:35.598773Z",
     "start_time": "2021-04-10T09:55:34.904631Z"
    }
   },
   "outputs": [],
   "source": [
    "import matplotlib.pyplot as plt\n",
    "import pandas as pd\n",
    "import os\n",
    "import numpy as np\n",
    "import matplotlib\n",
    "import re as re\n",
    "import sqlite3\n",
    "import datetime"
   ]
  },
  {
   "cell_type": "code",
   "execution_count": 6,
   "id": "36191f10",
   "metadata": {
    "ExecuteTime": {
     "end_time": "2021-04-10T09:56:03.084255Z",
     "start_time": "2021-04-10T09:56:00.194963Z"
    }
   },
   "outputs": [],
   "source": [
    "def read_all_tables(connection):\n",
    "    files_dict = {}\n",
    "    db_tables = pd.read_sql_query(\"SELECT name FROM sqlite_master WHERE type='table'\", connection)\n",
    "    for table in db_tables['name']:\n",
    "        files_dict[table] = read_table(table, connection)\n",
    "    return files_dict\n",
    "def read_table(table_name, connection):\n",
    "     return pd.read_sql_query(\"SELECT * from {}\".format(table_name), connection)\n",
    "    \n",
    "conn = sqlite3.connect('../datascience-stackexchange.db')\n",
    "files_df = read_all_tables(conn)"
   ]
  },
  {
   "cell_type": "code",
   "execution_count": 7,
   "id": "8a7be090",
   "metadata": {
    "ExecuteTime": {
     "end_time": "2021-04-10T09:56:04.345881Z",
     "start_time": "2021-04-10T09:56:04.334885Z"
    }
   },
   "outputs": [],
   "source": [
    "def top_users(files, sourceDF):\n",
    "    #top users for posting or commenting\n",
    "    base_count = files[sourceDF]['UserId'].value_counts().to_frame()\n",
    "    base_count = base_count.rename(columns={'UserId':'Count'})\n",
    "    base_count['UserId'] = base_count.index\n",
    "    base_count['UserId'] = base_count['UserId'].replace('', np.nan)\n",
    "    base_count.dropna(subset=['UserId'], inplace=True)\n",
    "    base_count = base_count.reset_index(drop=True)\n",
    "    files['Users_2'] = files['Users'].rename(columns={'Id': 'UserId'})\n",
    "    df_merge_col = pd.merge(base_count, files['Users_2'], on='UserId')\n",
    "    \n",
    "    return df_merge_col"
   ]
  },
  {
   "cell_type": "code",
   "execution_count": 9,
   "id": "8648b8be",
   "metadata": {
    "ExecuteTime": {
     "end_time": "2021-04-10T09:56:21.803146Z",
     "start_time": "2021-04-10T09:56:21.248654Z"
    }
   },
   "outputs": [
    {
     "data": {
      "image/png": "[encoded data removed]",
      "text/plain": [
       "<Figure size 864x288 with 1 Axes>"
      ]
     },
     "metadata": {
      "needs_background": "light"
     },
     "output_type": "display_data"
    }
   ],
   "source": [
    "files_df['Users']['CreationDate'] = pd.to_datetime(files_df['Users']['CreationDate'])\n",
    "now = datetime.datetime.now()\n",
    "currentTimeInYears = float(now.year + pd.Series(now).dt.dayofyear/365)\n",
    "files_df['Users']['CreationDuration']  = currentTimeInYears - (files_df['Users']['CreationDate'].dt.year + files_df['Users']['CreationDate'].dt.dayofyear/365)\n",
    "top_100_user_post = top_users(files_df, 'PostHistory')\n",
    "top_100_user_post = top_100_user_post.sort_values(by=['Count'], ascending = False)\n",
    "\n",
    "top_100_user_comment = top_users(files_df, 'Comments')\n",
    "top_100_user_comment = top_100_user_comment.sort_values(by=['Count'], ascending = False)\n",
    "\n",
    "\n",
    "bins = pd.cut(top_100_user_post['CreationDuration'], np.arange(8))\n",
    "number_of_post_count_per_duration = top_100_user_post.groupby(bins)['CreationDuration'].agg(['count']).rename(columns={'count':'Posts'})\n",
    "bins = pd.cut(top_100_user_comment['CreationDuration'], np.arange(8))\n",
    "number_of_comment_count_per_duration = top_100_user_comment.groupby(bins)['CreationDuration'].agg(['count']).rename(columns={'count':'Comments'})\n",
    "posts_comments_creation_duration_counts = pd.concat([number_of_post_count_per_duration, number_of_comment_count_per_duration], axis=1)\n",
    "posts_comments_creation_duration_counts\n",
    "\n",
    "posts_comments_creation_duration_counts.plot(kind=\"bar\", figsize = (12,4))\n",
    "plt.ylabel(\"Post/Comment Count\")\n",
    "plt.xlabel(\"Duration in Years\")\n",
    "plt.title(\"Post/Comment Count group by user life duration\")\n",
    "plt.xticks(rotation=0)\n",
    "plt.savefig('../plots/post-comment-count-group-by-user-creation-date', dpi=150, pad_inches = 0.3, bbox_inches='tight')\n",
    "plt.show()"
   ]
  }
 ],
 "metadata": {
  "kernelspec": {
   "display_name": "Python 3",
   "language": "python",
   "name": "python3"
  },
  "language_info": {
   "codemirror_mode": {
    "name": "ipython",
    "version": 3
   },
   "file_extension": ".py",
   "mimetype": "text/x-python",
   "name": "python",
   "nbconvert_exporter": "python",
   "pygments_lexer": "ipython3",
   "version": "3.8.8"
  }
 },
 "nbformat": 4,
 "nbformat_minor": 5
}
