{
 "cells": [
  {
   "cell_type": "code",
   "execution_count": 6,
   "id": "f8f4aa68",
   "metadata": {
    "ExecuteTime": {
     "end_time": "2021-04-10T10:09:41.631758Z",
     "start_time": "2021-04-10T10:09:41.625776Z"
    }
   },
   "outputs": [],
   "source": [
    "import matplotlib.pyplot as plt\n",
    "import pandas as pd\n",
    "import os\n",
    "import datetime\n",
    "import numpy as np\n",
    "import matplotlib\n",
    "import sqlite3\n",
    "import csv\n",
    "import glob"
   ]
  },
  {
   "cell_type": "markdown",
   "id": "c026f81d",
   "metadata": {},
   "source": [
    "<h3>Reading of all the table stored in the database. This can be optimize by just getting only the table to be used and table columns to be used.</h3>"
   ]
  },
  {
   "cell_type": "code",
   "execution_count": 11,
   "id": "d3af071a",
   "metadata": {
    "ExecuteTime": {
     "end_time": "2021-04-10T10:10:09.020505Z",
     "start_time": "2021-04-10T10:10:06.081339Z"
    }
   },
   "outputs": [],
   "source": [
    "def read_all_tables(connection):\n",
    "    files_dict = {}\n",
    "    db_tables = pd.read_sql_query(\"SELECT name FROM sqlite_master WHERE type='table'\", connection)\n",
    "    for table in db_tables['name']:\n",
    "        files_dict[table] = read_table(table, connection)\n",
    "    return files_dict\n",
    "def read_table(table_name, connection):\n",
    "     return pd.read_sql_query(\"SELECT * from {}\".format(table_name), connection)\n",
    "    \n",
    "conn = sqlite3.connect('../datascience-stackexchange.db')\n",
    "files_df = read_all_tables(conn)\n"
   ]
  },
  {
   "cell_type": "code",
   "execution_count": 12,
   "id": "df623196",
   "metadata": {
    "ExecuteTime": {
     "end_time": "2021-04-10T10:10:09.522157Z",
     "start_time": "2021-04-10T10:10:09.502187Z"
    }
   },
   "outputs": [],
   "source": [
    "def top_users(files, sourceDF):\n",
    "    #top users for posting or commenting\n",
    "    base_count = files[sourceDF]['UserId'].value_counts().to_frame()\n",
    "    base_count = base_count.rename(columns={'UserId':'Count'})\n",
    "    base_count['UserId'] = base_count.index\n",
    "    #\n",
    "    base_count['UserId'] = base_count['UserId'].replace('', np.nan)\n",
    "    base_count.dropna(subset=['UserId'], inplace=True)\n",
    "    #\n",
    "    base_count = base_count.reset_index(drop=True)\n",
    "    files['Users_2'] = files['Users'].rename(columns={'Id': 'UserId'})\n",
    "    df_merge_col = pd.merge(base_count, files['Users_2'], on='UserId')\n",
    "    \n",
    "    return df_merge_col"
   ]
  },
  {
   "cell_type": "code",
   "execution_count": 15,
   "id": "179df30b",
   "metadata": {
    "ExecuteTime": {
     "end_time": "2021-04-10T10:10:28.298893Z",
     "start_time": "2021-04-10T10:10:27.625694Z"
    }
   },
   "outputs": [
    {
     "data": {
      "image/png": "[encoded data removed]",
      "text/plain": [
       "<Figure size 864x288 with 1 Axes>"
      ]
     },
     "metadata": {
      "needs_background": "light"
     },
     "output_type": "display_data"
    },
    {
     "data": {
      "text/html": [
       "<div>\n",
       "<style scoped>\n",
       "    .dataframe tbody tr th:only-of-type {\n",
       "        vertical-align: middle;\n",
       "    }\n",
       "\n",
       "    .dataframe tbody tr th {\n",
       "        vertical-align: top;\n",
       "    }\n",
       "\n",
       "    .dataframe thead th {\n",
       "        text-align: right;\n",
       "    }\n",
       "</style>\n",
       "<table border=\"1\" class=\"dataframe\">\n",
       "  <thead>\n",
       "    <tr style=\"text-align: right;\">\n",
       "      <th></th>\n",
       "      <th>Posts</th>\n",
       "      <th>Comments</th>\n",
       "    </tr>\n",
       "    <tr>\n",
       "      <th>Reputation</th>\n",
       "      <th></th>\n",
       "      <th></th>\n",
       "    </tr>\n",
       "  </thead>\n",
       "  <tbody>\n",
       "    <tr>\n",
       "      <th>(0, 500]</th>\n",
       "      <td>19594</td>\n",
       "      <td>10993</td>\n",
       "    </tr>\n",
       "    <tr>\n",
       "      <th>(500, 1000]</th>\n",
       "      <td>325</td>\n",
       "      <td>305</td>\n",
       "    </tr>\n",
       "    <tr>\n",
       "      <th>(1000, 1500]</th>\n",
       "      <td>88</td>\n",
       "      <td>84</td>\n",
       "    </tr>\n",
       "    <tr>\n",
       "      <th>(1500, 2000]</th>\n",
       "      <td>53</td>\n",
       "      <td>53</td>\n",
       "    </tr>\n",
       "    <tr>\n",
       "      <th>(2000, 2500]</th>\n",
       "      <td>17</td>\n",
       "      <td>16</td>\n",
       "    </tr>\n",
       "    <tr>\n",
       "      <th>(2500, 5000]</th>\n",
       "      <td>37</td>\n",
       "      <td>37</td>\n",
       "    </tr>\n",
       "    <tr>\n",
       "      <th>(5000, 10000]</th>\n",
       "      <td>15</td>\n",
       "      <td>15</td>\n",
       "    </tr>\n",
       "    <tr>\n",
       "      <th>(10000, 15000]</th>\n",
       "      <td>5</td>\n",
       "      <td>5</td>\n",
       "    </tr>\n",
       "    <tr>\n",
       "      <th>(15000, 20000]</th>\n",
       "      <td>1</td>\n",
       "      <td>1</td>\n",
       "    </tr>\n",
       "    <tr>\n",
       "      <th>(20000, 25000]</th>\n",
       "      <td>1</td>\n",
       "      <td>1</td>\n",
       "    </tr>\n",
       "  </tbody>\n",
       "</table>\n",
       "</div>"
      ],
      "text/plain": [
       "                Posts  Comments\n",
       "Reputation                     \n",
       "(0, 500]        19594     10993\n",
       "(500, 1000]       325       305\n",
       "(1000, 1500]       88        84\n",
       "(1500, 2000]       53        53\n",
       "(2000, 2500]       17        16\n",
       "(2500, 5000]       37        37\n",
       "(5000, 10000]      15        15\n",
       "(10000, 15000]      5         5\n",
       "(15000, 20000]      1         1\n",
       "(20000, 25000]      1         1"
      ]
     },
     "execution_count": 15,
     "metadata": {},
     "output_type": "execute_result"
    }
   ],
   "source": [
    "top_100_user_post = top_users(files_df, 'PostHistory')\n",
    "top_100_user_post = top_100_user_post.sort_values(by=['Count'], ascending = False)\n",
    "top_100_user_comment = top_users(files_df, 'Comments')\n",
    "top_100_user_comment = top_100_user_comment.sort_values(by=['Count'], ascending = False)\n",
    "\n",
    "repu_range = np.concatenate((np.arange(0,3000,500), np.arange(5000,30000,5000)), axis=None)\n",
    "bins = pd.cut(top_100_user_post['Reputation'], repu_range)\n",
    "top_100_poster_per_reputation = top_100_user_post.groupby(bins)['Reputation'].agg(['count']).rename(columns={'count':'Posts'})\n",
    "\n",
    "\n",
    "bins = pd.cut(top_100_user_comment['Reputation'], repu_range)\n",
    "top_100_user_comment = top_100_user_comment.groupby(bins)['Reputation'].agg(['count']).rename(columns={'count':'Comments'})\n",
    "posts_comments_by_range = pd.concat([top_100_poster_per_reputation, top_100_user_comment], axis=1)\n",
    "posts_comments_by_range\n",
    "\n",
    "posts_comments_by_range.plot(kind=\"bar\", figsize = (12,4))\n",
    "plt.ylabel(\"User Counts\")\n",
    "plt.xlabel(\"Range by Reputation\")\n",
    "plt.title(\"Number of users on a certain range of Reputation\")\n",
    "plt.xticks(rotation=45)\n",
    "plt.savefig('../plots/user-count-group-by-reputation-range-all-val', dpi=150, pad_inches = 0.3, bbox_inches='tight')\n",
    "plt.show()\n",
    "posts_comments_by_range"
   ]
  },
  {
   "cell_type": "code",
   "execution_count": 18,
   "id": "b810449d",
   "metadata": {
    "ExecuteTime": {
     "end_time": "2021-04-10T10:16:21.633304Z",
     "start_time": "2021-04-10T10:16:20.990999Z"
    }
   },
   "outputs": [
    {
     "data": {
      "image/png": "[encoded data removed]",
      "text/plain": [
       "<Figure size 864x288 with 1 Axes>"
      ]
     },
     "metadata": {
      "needs_background": "light"
     },
     "output_type": "display_data"
    }
   ],
   "source": [
    "top_100_user_post = top_users(files_df, 'PostHistory')\n",
    "top_100_user_post = top_100_user_post.sort_values(by=['Count'], ascending = False)\n",
    "top_100_user_comment = top_users(files_df, 'Comments')\n",
    "top_100_user_comment = top_100_user_comment.sort_values(by=['Count'], ascending = False)\n",
    "\n",
    "repu_range = np.arange(0,501,50)\n",
    "\n",
    "bins = pd.cut(top_100_user_post['Reputation'], repu_range)\n",
    "top_100_poster_per_reputation = top_100_user_post.groupby(bins)['Reputation'].agg(['count']).rename(columns={'count':'Posts'})\n",
    "\n",
    "\n",
    "bins = pd.cut(top_100_user_comment['Reputation'], repu_range)\n",
    "top_100_user_comment = top_100_user_comment.groupby(bins)['Reputation'].agg(['count']).rename(columns={'count':'Comments'})\n",
    "posts_comments_by_range = pd.concat([top_100_poster_per_reputation, top_100_user_comment], axis=1)\n",
    "\n",
    "posts_comments_by_range.plot(kind=\"bar\", figsize = (12,4))\n",
    "plt.ylabel(\"User Counts\")\n",
    "plt.xlabel(\"Range by Reputation\")\n",
    "plt.title(\"Number of users on a certain range of Reputation\")\n",
    "plt.xticks(rotation=45)\n",
    "plt.savefig('../plots/user-count-group-by-reputation-range-0-500', dpi=150, pad_inches = 0.3, bbox_inches='tight')\n",
    "plt.show()"
   ]
  },
  {
   "cell_type": "code",
   "execution_count": null,
   "id": "dc07b9be",
   "metadata": {},
   "outputs": [],
   "source": []
  }
 ],
 "metadata": {
  "kernelspec": {
   "display_name": "Python 3",
   "language": "python",
   "name": "python3"
  },
  "language_info": {
   "codemirror_mode": {
    "name": "ipython",
    "version": 3
   },
   "file_extension": ".py",
   "mimetype": "text/x-python",
   "name": "python",
   "nbconvert_exporter": "python",
   "pygments_lexer": "ipython3",
   "version": "3.8.8"
  }
 },
 "nbformat": 4,
 "nbformat_minor": 5
}
