{
 "cells": [
  {
   "cell_type": "code",
   "execution_count": 1,
   "id": "6e2268e6",
   "metadata": {
    "ExecuteTime": {
     "end_time": "2021-04-10T11:03:41.695856Z",
     "start_time": "2021-04-10T11:03:40.930902Z"
    }
   },
   "outputs": [],
   "source": [
    "import matplotlib.pyplot as plt\n",
    "import pandas as pd\n",
    "import os\n",
    "import numpy as np\n",
    "import matplotlib\n",
    "import re as re\n",
    "import sqlite3"
   ]
  },
  {
   "cell_type": "code",
   "execution_count": 2,
   "id": "85b90011",
   "metadata": {
    "ExecuteTime": {
     "end_time": "2021-04-10T11:03:44.708817Z",
     "start_time": "2021-04-10T11:03:41.697850Z"
    }
   },
   "outputs": [],
   "source": [
    "def read_all_tables(connection):\n",
    "    files_dict = {}\n",
    "    db_tables = pd.read_sql_query(\"SELECT name FROM sqlite_master WHERE type='table'\", connection)\n",
    "    for table in db_tables['name']:\n",
    "        files_dict[table] = read_table(table, connection)\n",
    "    return files_dict\n",
    "def read_table(table_name, connection):\n",
    "     return pd.read_sql_query(\"SELECT * from {}\".format(table_name), connection)\n",
    "    \n",
    "conn = sqlite3.connect('datascience-stackexchange.db')\n",
    "files_df = read_all_tables(conn)"
   ]
  },
  {
   "cell_type": "code",
   "execution_count": 3,
   "id": "70c72e35",
   "metadata": {
    "ExecuteTime": {
     "end_time": "2021-04-10T11:03:44.894325Z",
     "start_time": "2021-04-10T11:03:44.710788Z"
    }
   },
   "outputs": [],
   "source": [
    "def split_impl(df):\n",
    "    x = df['Text'].str.findall(r'\\<.*?\\>')\n",
    "    return (x)\n",
    "\n",
    "files_df['PostHistory'].head()\n",
    "post_history = files_df['PostHistory'].copy()\n",
    "post_history.drop(post_history.loc[post_history['PostHistoryTypeId'] != 3].index, inplace=True)\n",
    "post_history.drop(post_history.loc[post_history['UserId'] == ''].index, inplace=True)\n",
    "post_history = post_history.dropna(subset=['Text', 'UserId'])\n",
    "post_history['UserId'] = post_history['UserId'].astype('int64')\n",
    "post_history['Text'] = split_impl(post_history)"
   ]
  },
  {
   "cell_type": "code",
   "execution_count": 4,
   "id": "86e10edd",
   "metadata": {
    "ExecuteTime": {
     "end_time": "2021-04-10T11:03:44.925247Z",
     "start_time": "2021-04-10T11:03:44.896292Z"
    }
   },
   "outputs": [
    {
     "data": {
      "text/html": [
       "<div>\n",
       "<style scoped>\n",
       "    .dataframe tbody tr th:only-of-type {\n",
       "        vertical-align: middle;\n",
       "    }\n",
       "\n",
       "    .dataframe tbody tr th {\n",
       "        vertical-align: top;\n",
       "    }\n",
       "\n",
       "    .dataframe thead th {\n",
       "        text-align: right;\n",
       "    }\n",
       "</style>\n",
       "<table border=\"1\" class=\"dataframe\">\n",
       "  <thead>\n",
       "    <tr style=\"text-align: right;\">\n",
       "      <th></th>\n",
       "      <th>Post with Tag Count</th>\n",
       "      <th>UserId</th>\n",
       "    </tr>\n",
       "  </thead>\n",
       "  <tbody>\n",
       "    <tr>\n",
       "      <th>0</th>\n",
       "      <td>102</td>\n",
       "      <td>8820</td>\n",
       "    </tr>\n",
       "    <tr>\n",
       "      <th>1</th>\n",
       "      <td>71</td>\n",
       "      <td>64876</td>\n",
       "    </tr>\n",
       "    <tr>\n",
       "      <th>2</th>\n",
       "      <td>66</td>\n",
       "      <td>43077</td>\n",
       "    </tr>\n",
       "    <tr>\n",
       "      <th>3</th>\n",
       "      <td>60</td>\n",
       "      <td>84229</td>\n",
       "    </tr>\n",
       "    <tr>\n",
       "      <th>4</th>\n",
       "      <td>53</td>\n",
       "      <td>21560</td>\n",
       "    </tr>\n",
       "    <tr>\n",
       "      <th>...</th>\n",
       "      <td>...</td>\n",
       "      <td>...</td>\n",
       "    </tr>\n",
       "    <tr>\n",
       "      <th>95</th>\n",
       "      <td>16</td>\n",
       "      <td>41557</td>\n",
       "    </tr>\n",
       "    <tr>\n",
       "      <th>96</th>\n",
       "      <td>16</td>\n",
       "      <td>83275</td>\n",
       "    </tr>\n",
       "    <tr>\n",
       "      <th>97</th>\n",
       "      <td>16</td>\n",
       "      <td>37986</td>\n",
       "    </tr>\n",
       "    <tr>\n",
       "      <th>98</th>\n",
       "      <td>16</td>\n",
       "      <td>8432</td>\n",
       "    </tr>\n",
       "    <tr>\n",
       "      <th>99</th>\n",
       "      <td>16</td>\n",
       "      <td>98535</td>\n",
       "    </tr>\n",
       "  </tbody>\n",
       "</table>\n",
       "<p>100 rows × 2 columns</p>\n",
       "</div>"
      ],
      "text/plain": [
       "    Post with Tag Count  UserId\n",
       "0                   102    8820\n",
       "1                    71   64876\n",
       "2                    66   43077\n",
       "3                    60   84229\n",
       "4                    53   21560\n",
       "..                  ...     ...\n",
       "95                   16   41557\n",
       "96                   16   83275\n",
       "97                   16   37986\n",
       "98                   16    8432\n",
       "99                   16   98535\n",
       "\n",
       "[100 rows x 2 columns]"
      ]
     },
     "execution_count": 4,
     "metadata": {},
     "output_type": "execute_result"
    }
   ],
   "source": [
    "tag_count = post_history['UserId'].value_counts().to_frame()\n",
    "tag_count = tag_count.rename(columns={'UserId':'Post with Tag Count'})\n",
    "tag_count['UserId'] = tag_count.index\n",
    "tag_count = tag_count.reset_index(drop=True)\n",
    "tag_count_top_100_user = tag_count[:100]\n",
    "tag_count_top_100_user"
   ]
  },
  {
   "cell_type": "code",
   "execution_count": 5,
   "id": "1a2165fe",
   "metadata": {
    "ExecuteTime": {
     "end_time": "2021-04-10T11:03:46.863059Z",
     "start_time": "2021-04-10T11:03:44.927210Z"
    }
   },
   "outputs": [
    {
     "data": {
      "text/html": [
       "<div>\n",
       "<style scoped>\n",
       "    .dataframe tbody tr th:only-of-type {\n",
       "        vertical-align: middle;\n",
       "    }\n",
       "\n",
       "    .dataframe tbody tr th {\n",
       "        vertical-align: top;\n",
       "    }\n",
       "\n",
       "    .dataframe thead th {\n",
       "        text-align: right;\n",
       "    }\n",
       "</style>\n",
       "<table border=\"1\" class=\"dataframe\">\n",
       "  <thead>\n",
       "    <tr style=\"text-align: right;\">\n",
       "      <th></th>\n",
       "      <th>Percentage</th>\n",
       "      <th>UserId</th>\n",
       "    </tr>\n",
       "  </thead>\n",
       "  <tbody>\n",
       "    <tr>\n",
       "      <th>0</th>\n",
       "      <td>0.274510</td>\n",
       "      <td>8820</td>\n",
       "    </tr>\n",
       "    <tr>\n",
       "      <th>1</th>\n",
       "      <td>0.215686</td>\n",
       "      <td>8820</td>\n",
       "    </tr>\n",
       "    <tr>\n",
       "      <th>2</th>\n",
       "      <td>0.166667</td>\n",
       "      <td>8820</td>\n",
       "    </tr>\n",
       "    <tr>\n",
       "      <th>3</th>\n",
       "      <td>0.078431</td>\n",
       "      <td>8820</td>\n",
       "    </tr>\n",
       "    <tr>\n",
       "      <th>4</th>\n",
       "      <td>0.078431</td>\n",
       "      <td>8820</td>\n",
       "    </tr>\n",
       "    <tr>\n",
       "      <th>...</th>\n",
       "      <td>...</td>\n",
       "      <td>...</td>\n",
       "    </tr>\n",
       "    <tr>\n",
       "      <th>495</th>\n",
       "      <td>0.625000</td>\n",
       "      <td>98535</td>\n",
       "    </tr>\n",
       "    <tr>\n",
       "      <th>496</th>\n",
       "      <td>0.562500</td>\n",
       "      <td>98535</td>\n",
       "    </tr>\n",
       "    <tr>\n",
       "      <th>497</th>\n",
       "      <td>0.437500</td>\n",
       "      <td>98535</td>\n",
       "    </tr>\n",
       "    <tr>\n",
       "      <th>498</th>\n",
       "      <td>0.250000</td>\n",
       "      <td>98535</td>\n",
       "    </tr>\n",
       "    <tr>\n",
       "      <th>499</th>\n",
       "      <td>0.187500</td>\n",
       "      <td>98535</td>\n",
       "    </tr>\n",
       "  </tbody>\n",
       "</table>\n",
       "<p>500 rows × 2 columns</p>\n",
       "</div>"
      ],
      "text/plain": [
       "     Percentage UserId\n",
       "0      0.274510   8820\n",
       "1      0.215686   8820\n",
       "2      0.166667   8820\n",
       "3      0.078431   8820\n",
       "4      0.078431   8820\n",
       "..          ...    ...\n",
       "495    0.625000  98535\n",
       "496    0.562500  98535\n",
       "497    0.437500  98535\n",
       "498    0.250000  98535\n",
       "499    0.187500  98535\n",
       "\n",
       "[500 rows x 2 columns]"
      ]
     },
     "execution_count": 5,
     "metadata": {},
     "output_type": "execute_result"
    }
   ],
   "source": [
    "percentage_top_5_df = pd.DataFrame(columns=['Percentage', 'UserId'])\n",
    "tag_count_user = post_history.copy()\n",
    "\n",
    "c = 0\n",
    "for user in tag_count_top_100_user['UserId']:\n",
    "    tag_count_user = post_history.copy()\n",
    "    total_tag_count = tag_count_top_100_user.loc[tag_count_top_100_user['UserId']== user]['Post with Tag Count'][c]\n",
    "    c += 1\n",
    "    tag_count_user.drop(tag_count_user.loc[tag_count_user['UserId'] != user].index, inplace=True)\n",
    "    tag_count_user.drop(tag_count_user.loc[tag_count_user['PostHistoryTypeId'] != 3].index, inplace=True)\n",
    "    z = tag_count_user.Text\n",
    "    new_obj = {}\n",
    "    for i in z:\n",
    "        for j in i:\n",
    "            j = j.replace('<', '')\n",
    "            j = j.replace('>', '')\n",
    "            if j not in new_obj.keys():\n",
    "                new_obj[j] = 1\n",
    "            else:\n",
    "                new_obj[j] += 1\n",
    "    new_obj = dict(sorted(new_obj.items(), key=lambda item: item[1], reverse = True))\n",
    "    user_df = pd.DataFrame.from_dict(new_obj, orient='index')[:5]\n",
    "    user_df['Percentage'] = user_df[0]/total_tag_count\n",
    "    user_df = user_df.reset_index(drop=True)\n",
    "    user_df = user_df[['Percentage']]\n",
    "    user_df['UserId'] = user\n",
    "    percentage_top_5_df = pd.concat([percentage_top_5_df, user_df], ignore_index=True)\n",
    "    \n",
    "percentage_top_5_df"
   ]
  },
  {
   "cell_type": "code",
   "execution_count": 6,
   "id": "474dad2f",
   "metadata": {
    "ExecuteTime": {
     "end_time": "2021-04-10T11:03:47.303873Z",
     "start_time": "2021-04-10T11:03:46.865052Z"
    }
   },
   "outputs": [
    {
     "data": {
      "image/png": "[encoded data removed]",
      "text/plain": [
       "<Figure size 864x288 with 1 Axes>"
      ]
     },
     "metadata": {
      "needs_background": "light"
     },
     "output_type": "display_data"
    },
    {
     "data": {
      "text/html": [
       "<div>\n",
       "<style scoped>\n",
       "    .dataframe tbody tr th:only-of-type {\n",
       "        vertical-align: middle;\n",
       "    }\n",
       "\n",
       "    .dataframe tbody tr th {\n",
       "        vertical-align: top;\n",
       "    }\n",
       "\n",
       "    .dataframe thead th {\n",
       "        text-align: right;\n",
       "    }\n",
       "</style>\n",
       "<table border=\"1\" class=\"dataframe\">\n",
       "  <thead>\n",
       "    <tr style=\"text-align: right;\">\n",
       "      <th></th>\n",
       "      <th>Count</th>\n",
       "    </tr>\n",
       "    <tr>\n",
       "      <th>Percentage</th>\n",
       "      <th></th>\n",
       "    </tr>\n",
       "  </thead>\n",
       "  <tbody>\n",
       "    <tr>\n",
       "      <th>(0.0, 0.1]</th>\n",
       "      <td>41</td>\n",
       "    </tr>\n",
       "    <tr>\n",
       "      <th>(0.1, 0.2]</th>\n",
       "      <td>172</td>\n",
       "    </tr>\n",
       "    <tr>\n",
       "      <th>(0.2, 0.3]</th>\n",
       "      <td>127</td>\n",
       "    </tr>\n",
       "    <tr>\n",
       "      <th>(0.3, 0.4]</th>\n",
       "      <td>54</td>\n",
       "    </tr>\n",
       "    <tr>\n",
       "      <th>(0.4, 0.5]</th>\n",
       "      <td>41</td>\n",
       "    </tr>\n",
       "    <tr>\n",
       "      <th>(0.5, 0.6]</th>\n",
       "      <td>19</td>\n",
       "    </tr>\n",
       "    <tr>\n",
       "      <th>(0.6, 0.7]</th>\n",
       "      <td>23</td>\n",
       "    </tr>\n",
       "    <tr>\n",
       "      <th>(0.7, 0.8]</th>\n",
       "      <td>8</td>\n",
       "    </tr>\n",
       "    <tr>\n",
       "      <th>(0.8, 0.9]</th>\n",
       "      <td>8</td>\n",
       "    </tr>\n",
       "    <tr>\n",
       "      <th>(0.9, 1.0]</th>\n",
       "      <td>7</td>\n",
       "    </tr>\n",
       "  </tbody>\n",
       "</table>\n",
       "</div>"
      ],
      "text/plain": [
       "            Count\n",
       "Percentage       \n",
       "(0.0, 0.1]     41\n",
       "(0.1, 0.2]    172\n",
       "(0.2, 0.3]    127\n",
       "(0.3, 0.4]     54\n",
       "(0.4, 0.5]     41\n",
       "(0.5, 0.6]     19\n",
       "(0.6, 0.7]     23\n",
       "(0.7, 0.8]      8\n",
       "(0.8, 0.9]      8\n",
       "(0.9, 1.0]      7"
      ]
     },
     "execution_count": 6,
     "metadata": {},
     "output_type": "execute_result"
    }
   ],
   "source": [
    "bins = pd.cut(percentage_top_5_df['Percentage'], np.arange(0,1.01, 0.1))\n",
    "percentage_top_5_df_grouped = percentage_top_5_df.groupby(bins)['Percentage'].agg(['count']).rename(columns={'count':'Count'})\n",
    "\n",
    "percentage_top_5_df_grouped.plot(kind=\"bar\", figsize = (12,4))\n",
    "plt.xlabel(\"Percentage range\")\n",
    "plt.ylabel(\"Count\")\n",
    "plt.title(\"Percentage of Top 5 most used tag by a user (Top 100 Posters)\")\n",
    "plt.xticks(rotation=45)\n",
    "plt.savefig('plots/percentage-tag-user.png', dpi=150, pad_inches = 0.3, bbox_inches='tight')\n",
    "plt.show()\n",
    "\n",
    "\n",
    "percentage_top_5_df.describe()\n",
    "percentage_top_5_df_grouped"
   ]
  },
  {
   "cell_type": "code",
   "execution_count": 7,
   "id": "eda817e5",
   "metadata": {
    "ExecuteTime": {
     "end_time": "2021-04-10T11:03:47.318839Z",
     "start_time": "2021-04-10T11:03:47.304896Z"
    }
   },
   "outputs": [
    {
     "data": {
      "text/plain": [
       "43"
      ]
     },
     "execution_count": 7,
     "metadata": {},
     "output_type": "execute_result"
    }
   ],
   "source": [
    "len(percentage_top_5_df.loc[percentage_top_5_df['Percentage']>0.5]['UserId'].unique())"
   ]
  },
  {
   "cell_type": "code",
   "execution_count": 8,
   "id": "ac44a381",
   "metadata": {
    "ExecuteTime": {
     "end_time": "2021-04-10T11:03:47.334767Z",
     "start_time": "2021-04-10T11:03:47.320804Z"
    }
   },
   "outputs": [
    {
     "data": {
      "text/html": [
       "<div>\n",
       "<style scoped>\n",
       "    .dataframe tbody tr th:only-of-type {\n",
       "        vertical-align: middle;\n",
       "    }\n",
       "\n",
       "    .dataframe tbody tr th {\n",
       "        vertical-align: top;\n",
       "    }\n",
       "\n",
       "    .dataframe thead th {\n",
       "        text-align: right;\n",
       "    }\n",
       "</style>\n",
       "<table border=\"1\" class=\"dataframe\">\n",
       "  <thead>\n",
       "    <tr style=\"text-align: right;\">\n",
       "      <th></th>\n",
       "      <th>Percentage</th>\n",
       "    </tr>\n",
       "  </thead>\n",
       "  <tbody>\n",
       "    <tr>\n",
       "      <th>count</th>\n",
       "      <td>500.000000</td>\n",
       "    </tr>\n",
       "    <tr>\n",
       "      <th>mean</th>\n",
       "      <td>0.287897</td>\n",
       "    </tr>\n",
       "    <tr>\n",
       "      <th>std</th>\n",
       "      <td>0.192993</td>\n",
       "    </tr>\n",
       "    <tr>\n",
       "      <th>min</th>\n",
       "      <td>0.050000</td>\n",
       "    </tr>\n",
       "    <tr>\n",
       "      <th>25%</th>\n",
       "      <td>0.153846</td>\n",
       "    </tr>\n",
       "    <tr>\n",
       "      <th>50%</th>\n",
       "      <td>0.226540</td>\n",
       "    </tr>\n",
       "    <tr>\n",
       "      <th>75%</th>\n",
       "      <td>0.380952</td>\n",
       "    </tr>\n",
       "    <tr>\n",
       "      <th>max</th>\n",
       "      <td>1.000000</td>\n",
       "    </tr>\n",
       "  </tbody>\n",
       "</table>\n",
       "</div>"
      ],
      "text/plain": [
       "       Percentage\n",
       "count  500.000000\n",
       "mean     0.287897\n",
       "std      0.192993\n",
       "min      0.050000\n",
       "25%      0.153846\n",
       "50%      0.226540\n",
       "75%      0.380952\n",
       "max      1.000000"
      ]
     },
     "execution_count": 8,
     "metadata": {},
     "output_type": "execute_result"
    }
   ],
   "source": [
    "percentage_top_5_df.describe()"
   ]
  },
  {
   "cell_type": "markdown",
   "id": "232323eb",
   "metadata": {},
   "source": [
    "A user does not post on the same topic. Based on the top 100 users who posts, their top 5 mostly used tags in their posts only has a mean of 28.79%. Out of the top people who posts, there are just 43 out of 100 people who are posting on the same topic more than 50% of the time."
   ]
  }
 ],
 "metadata": {
  "kernelspec": {
   "display_name": "Python 3",
   "language": "python",
   "name": "python3"
  },
  "language_info": {
   "codemirror_mode": {
    "name": "ipython",
    "version": 3
   },
   "file_extension": ".py",
   "mimetype": "text/x-python",
   "name": "python",
   "nbconvert_exporter": "python",
   "pygments_lexer": "ipython3",
   "version": "3.8.8"
  }
 },
 "nbformat": 4,
 "nbformat_minor": 5
}
