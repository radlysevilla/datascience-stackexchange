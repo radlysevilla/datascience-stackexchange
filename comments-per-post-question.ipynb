{
 "cells": [
  {
   "cell_type": "code",
   "execution_count": 46,
   "id": "bdf7706c",
   "metadata": {
    "ExecuteTime": {
     "end_time": "2021-04-10T10:19:37.123864Z",
     "start_time": "2021-04-10T10:19:37.110897Z"
    }
   },
   "outputs": [],
   "source": [
    "import matplotlib.pyplot as plt\n",
    "import pandas as pd\n",
    "import os\n",
    "import numpy as np\n",
    "import matplotlib\n",
    "import re as re\n",
    "import sqlite3"
   ]
  },
  {
   "cell_type": "code",
   "execution_count": 47,
   "id": "b5e5b19b",
   "metadata": {
    "ExecuteTime": {
     "end_time": "2021-04-10T10:19:45.064616Z",
     "start_time": "2021-04-10T10:19:41.210960Z"
    }
   },
   "outputs": [],
   "source": [
    "def read_all_tables(connection):\n",
    "    files_dict = {}\n",
    "    db_tables = pd.read_sql_query(\"SELECT name FROM sqlite_master WHERE type='table'\", connection)\n",
    "    for table in db_tables['name']:\n",
    "        files_dict[table] = read_table(table, connection)\n",
    "    return files_dict\n",
    "def read_table(table_name, connection):\n",
    "     return pd.read_sql_query(\"SELECT * from {}\".format(table_name), connection)\n",
    "    \n",
    "conn = sqlite3.connect('datascience-stackexchange.db')\n",
    "files_df = read_all_tables(conn)"
   ]
  },
  {
   "cell_type": "code",
   "execution_count": 48,
   "id": "8ed2077f",
   "metadata": {
    "ExecuteTime": {
     "end_time": "2021-04-10T10:19:46.554630Z",
     "start_time": "2021-04-10T10:19:46.542685Z"
    }
   },
   "outputs": [],
   "source": [
    "def top_users(files, sourceDF):\n",
    "    #top users for posting or commenting\n",
    "    base_count = files[sourceDF]['UserId'].value_counts().to_frame()\n",
    "    base_count = base_count.rename(columns={'UserId':'Count'})\n",
    "    base_count['UserId'] = base_count.index\n",
    "    base_count['UserId'] = base_count['UserId'].replace('', np.nan)\n",
    "    base_count.dropna(subset=['UserId'], inplace=True)\n",
    "    base_count = base_count.reset_index(drop=True)\n",
    "    files['Users_2'] = files['Users'].rename(columns={'Id': 'UserId'})\n",
    "    df_merge_col = pd.merge(base_count, files['Users_2'], on='UserId')\n",
    "    \n",
    "    return df_merge_col"
   ]
  },
  {
   "cell_type": "code",
   "execution_count": 49,
   "id": "48ec5fd7",
   "metadata": {
    "ExecuteTime": {
     "end_time": "2021-04-10T10:19:47.550991Z",
     "start_time": "2021-04-10T10:19:47.407377Z"
    }
   },
   "outputs": [],
   "source": [
    "post_history = files_df['PostHistory'].copy()\n",
    "post_history.drop(post_history.loc[post_history['PostHistoryTypeId'] != 1].index, inplace=True)\n",
    "\n",
    "post_count = post_history['UserId'].value_counts().to_frame()\n",
    "post_count = post_count.rename(columns={'UserId':'Number of Questions Posted'})\n",
    "post_count['UserId'] = post_count.index\n",
    "post_count = post_count.reset_index(drop=True)"
   ]
  },
  {
   "cell_type": "code",
   "execution_count": 50,
   "id": "46c73ec0",
   "metadata": {
    "ExecuteTime": {
     "end_time": "2021-04-10T10:19:48.405677Z",
     "start_time": "2021-04-10T10:19:48.118473Z"
    }
   },
   "outputs": [],
   "source": [
    "top_100_user_post = top_users(files_df, 'PostHistory')\n",
    "post_history = files_df['PostHistory'].copy()\n",
    "post_history.drop(post_history.loc[post_history['PostHistoryTypeId'] != 1].index, inplace=True)\n",
    "post_history.drop(post_history.loc[post_history['UserId'] == ''].index, inplace=True)\n",
    "\n",
    "users_questions = post_history['UserId'].unique()\n",
    "users_questions = users_questions.astype('int64')\n",
    "\n",
    "comments = files_df['Comments'].copy()\n",
    "comment_count = comments['UserId'].value_counts().to_frame()\n",
    "comment_count = comment_count.rename(columns={'UserId':'Number of Comments Answered'})\n",
    "comment_count['UserId'] = comment_count.index\n",
    "comment_count = comment_count.reset_index(drop=True)"
   ]
  },
  {
   "cell_type": "code",
   "execution_count": 51,
   "id": "cf1eef2e",
   "metadata": {
    "ExecuteTime": {
     "end_time": "2021-04-10T10:19:49.318234Z",
     "start_time": "2021-04-10T10:19:49.285351Z"
    }
   },
   "outputs": [
    {
     "data": {
      "text/html": [
       "<div>\n",
       "<style scoped>\n",
       "    .dataframe tbody tr th:only-of-type {\n",
       "        vertical-align: middle;\n",
       "    }\n",
       "\n",
       "    .dataframe tbody tr th {\n",
       "        vertical-align: top;\n",
       "    }\n",
       "\n",
       "    .dataframe thead th {\n",
       "        text-align: right;\n",
       "    }\n",
       "</style>\n",
       "<table border=\"1\" class=\"dataframe\">\n",
       "  <thead>\n",
       "    <tr style=\"text-align: right;\">\n",
       "      <th></th>\n",
       "      <th>Number of Questions Posted</th>\n",
       "      <th>Number of Comments Answered</th>\n",
       "      <th>Comments per Post</th>\n",
       "    </tr>\n",
       "    <tr>\n",
       "      <th>UserId</th>\n",
       "      <th></th>\n",
       "      <th></th>\n",
       "      <th></th>\n",
       "    </tr>\n",
       "  </thead>\n",
       "  <tbody>\n",
       "    <tr>\n",
       "      <th>8820</th>\n",
       "      <td>102</td>\n",
       "      <td>267</td>\n",
       "      <td>2.617647</td>\n",
       "    </tr>\n",
       "    <tr>\n",
       "      <th>64876</th>\n",
       "      <td>71</td>\n",
       "      <td>242</td>\n",
       "      <td>3.408451</td>\n",
       "    </tr>\n",
       "    <tr>\n",
       "      <th>43077</th>\n",
       "      <td>66</td>\n",
       "      <td>101</td>\n",
       "      <td>1.530303</td>\n",
       "    </tr>\n",
       "    <tr>\n",
       "      <th>84229</th>\n",
       "      <td>60</td>\n",
       "      <td>69</td>\n",
       "      <td>1.150000</td>\n",
       "    </tr>\n",
       "    <tr>\n",
       "      <th>21560</th>\n",
       "      <td>53</td>\n",
       "      <td>34</td>\n",
       "      <td>0.641509</td>\n",
       "    </tr>\n",
       "    <tr>\n",
       "      <th>...</th>\n",
       "      <td>...</td>\n",
       "      <td>...</td>\n",
       "      <td>...</td>\n",
       "    </tr>\n",
       "    <tr>\n",
       "      <th>6506</th>\n",
       "      <td>1</td>\n",
       "      <td>1</td>\n",
       "      <td>1.000000</td>\n",
       "    </tr>\n",
       "    <tr>\n",
       "      <th>8237</th>\n",
       "      <td>1</td>\n",
       "      <td>3</td>\n",
       "      <td>3.000000</td>\n",
       "    </tr>\n",
       "    <tr>\n",
       "      <th>99238</th>\n",
       "      <td>1</td>\n",
       "      <td>1</td>\n",
       "      <td>1.000000</td>\n",
       "    </tr>\n",
       "    <tr>\n",
       "      <th>37380</th>\n",
       "      <td>1</td>\n",
       "      <td>1</td>\n",
       "      <td>1.000000</td>\n",
       "    </tr>\n",
       "    <tr>\n",
       "      <th>44844</th>\n",
       "      <td>1</td>\n",
       "      <td>1</td>\n",
       "      <td>1.000000</td>\n",
       "    </tr>\n",
       "  </tbody>\n",
       "</table>\n",
       "<p>8302 rows × 3 columns</p>\n",
       "</div>"
      ],
      "text/plain": [
       "        Number of Questions Posted  Number of Comments Answered  \\\n",
       "UserId                                                            \n",
       "8820                           102                          267   \n",
       "64876                           71                          242   \n",
       "43077                           66                          101   \n",
       "84229                           60                           69   \n",
       "21560                           53                           34   \n",
       "...                            ...                          ...   \n",
       "6506                             1                            1   \n",
       "8237                             1                            3   \n",
       "99238                            1                            1   \n",
       "37380                            1                            1   \n",
       "44844                            1                            1   \n",
       "\n",
       "        Comments per Post  \n",
       "UserId                     \n",
       "8820             2.617647  \n",
       "64876            3.408451  \n",
       "43077            1.530303  \n",
       "84229            1.150000  \n",
       "21560            0.641509  \n",
       "...                   ...  \n",
       "6506             1.000000  \n",
       "8237             3.000000  \n",
       "99238            1.000000  \n",
       "37380            1.000000  \n",
       "44844            1.000000  \n",
       "\n",
       "[8302 rows x 3 columns]"
      ]
     },
     "execution_count": 51,
     "metadata": {},
     "output_type": "execute_result"
    }
   ],
   "source": [
    "comments_per_post_by_userid = pd.merge(post_count, comment_count, on='UserId')\n",
    "comments_per_post_by_userid.drop(comments_per_post_by_userid.loc[comments_per_post_by_userid['UserId'] == ''].index, inplace=True)\n",
    "comments_per_post_by_userid['UserId'] = comments_per_post_by_userid['UserId'].astype('int64')\n",
    "comments_per_post_by_userid = comments_per_post_by_userid.set_index('UserId')\n",
    "comments_per_post_by_userid['Comments per Post'] = comments_per_post_by_userid['Number of Comments Answered']/comments_per_post_by_userid['Number of Questions Posted']\n",
    "comments_per_post_by_userid_top_100 = comments_per_post_by_userid[:100]\n",
    "comments_per_post_by_userid"
   ]
  },
  {
   "cell_type": "code",
   "execution_count": 52,
   "id": "0a2c8aea",
   "metadata": {
    "ExecuteTime": {
     "end_time": "2021-04-10T10:19:51.129412Z",
     "start_time": "2021-04-10T10:19:50.537002Z"
    }
   },
   "outputs": [
    {
     "data": {
      "image/png": "[encoded data removed]",
      "text/plain": [
       "<Figure size 864x288 with 1 Axes>"
      ]
     },
     "metadata": {
      "needs_background": "light"
     },
     "output_type": "display_data"
    }
   ],
   "source": [
    "repu_range = np.concatenate((np.arange(0,5,1), np.arange(5,50,5)), axis=None)\n",
    "repu_range = np.concatenate((repu_range, np.arange(50,100,20)),axis = None)\n",
    "repu_range = np.concatenate((repu_range, np.arange(100,500,100)),axis = None)\n",
    "\n",
    "bins = pd.cut(comments_per_post_by_userid['Comments per Post'], repu_range)\n",
    "comments_per_post_by_userid_grouped = comments_per_post_by_userid.groupby(bins)['Comments per Post'].agg(['count']).rename(columns={'count':'Comments per Post Count'})\n",
    "\n",
    "comments_per_post_by_userid_grouped.plot(kind=\"bar\", figsize = (12,4))\n",
    "plt.ylabel(\"Number of User Count\")\n",
    "plt.xlabel(\"Number of comments per post\")\n",
    "plt.title(\"Number of Users per comments per post\")\n",
    "plt.xticks(rotation=45)\n",
    "plt.savefig('plots/comments-per-post-question-all-val.png', dpi=150, pad_inches = 0.3, bbox_inches='tight')\n",
    "plt.show()"
   ]
  },
  {
   "cell_type": "code",
   "execution_count": 53,
   "id": "df2dfb86",
   "metadata": {
    "ExecuteTime": {
     "end_time": "2021-04-10T10:19:52.600475Z",
     "start_time": "2021-04-10T10:19:52.219472Z"
    }
   },
   "outputs": [
    {
     "data": {
      "image/png": "[encoded data removed]",
      "text/plain": [
       "<Figure size 864x288 with 1 Axes>"
      ]
     },
     "metadata": {
      "needs_background": "light"
     },
     "output_type": "display_data"
    },
    {
     "data": {
      "text/html": [
       "<div>\n",
       "<style scoped>\n",
       "    .dataframe tbody tr th:only-of-type {\n",
       "        vertical-align: middle;\n",
       "    }\n",
       "\n",
       "    .dataframe tbody tr th {\n",
       "        vertical-align: top;\n",
       "    }\n",
       "\n",
       "    .dataframe thead th {\n",
       "        text-align: right;\n",
       "    }\n",
       "</style>\n",
       "<table border=\"1\" class=\"dataframe\">\n",
       "  <thead>\n",
       "    <tr style=\"text-align: right;\">\n",
       "      <th></th>\n",
       "      <th>Comments per Post Count</th>\n",
       "    </tr>\n",
       "  </thead>\n",
       "  <tbody>\n",
       "    <tr>\n",
       "      <th>count</th>\n",
       "      <td>11.000000</td>\n",
       "    </tr>\n",
       "    <tr>\n",
       "      <th>mean</th>\n",
       "      <td>9.090909</td>\n",
       "    </tr>\n",
       "    <tr>\n",
       "      <th>std</th>\n",
       "      <td>13.201928</td>\n",
       "    </tr>\n",
       "    <tr>\n",
       "      <th>min</th>\n",
       "      <td>0.000000</td>\n",
       "    </tr>\n",
       "    <tr>\n",
       "      <th>25%</th>\n",
       "      <td>1.000000</td>\n",
       "    </tr>\n",
       "    <tr>\n",
       "      <th>50%</th>\n",
       "      <td>3.000000</td>\n",
       "    </tr>\n",
       "    <tr>\n",
       "      <th>75%</th>\n",
       "      <td>9.000000</td>\n",
       "    </tr>\n",
       "    <tr>\n",
       "      <th>max</th>\n",
       "      <td>36.000000</td>\n",
       "    </tr>\n",
       "  </tbody>\n",
       "</table>\n",
       "</div>"
      ],
      "text/plain": [
       "       Comments per Post Count\n",
       "count                11.000000\n",
       "mean                  9.090909\n",
       "std                  13.201928\n",
       "min                   0.000000\n",
       "25%                   1.000000\n",
       "50%                   3.000000\n",
       "75%                   9.000000\n",
       "max                  36.000000"
      ]
     },
     "execution_count": 53,
     "metadata": {},
     "output_type": "execute_result"
    }
   ],
   "source": [
    "repu_range = np.concatenate((np.arange(0,5,1), np.arange(5,36,5)), axis=None)\n",
    "bins = pd.cut(comments_per_post_by_userid_top_100['Comments per Post'], repu_range)\n",
    "comments_per_post_by_userid_top_100_grouped = comments_per_post_by_userid_top_100.groupby(bins)['Comments per Post'].agg(['count']).rename(columns={'count':'Comments per Post Count'})\n",
    "\n",
    "comments_per_post_by_userid_top_100_grouped.plot(kind=\"bar\", figsize = (12,4))\n",
    "plt.ylabel(\"Number of User Count\")\n",
    "plt.xlabel(\"Number of comments per post\")\n",
    "plt.title(\"Number of Users per comments per post (Top 100 Posters)\")\n",
    "plt.xticks(rotation=45)\n",
    "plt.savefig('plots/comments-per-post-question-0-35.png', dpi=150, pad_inches = 0.3, bbox_inches='tight')\n",
    "plt.show()\n",
    "\n",
    "comments_per_post_by_userid_top_100_grouped.describe()\n"
   ]
  },
  {
   "cell_type": "code",
   "execution_count": 42,
   "id": "0bdafe30",
   "metadata": {
    "ExecuteTime": {
     "end_time": "2021-04-10T09:20:56.646191Z",
     "start_time": "2021-04-10T09:20:56.610287Z"
    }
   },
   "outputs": [
    {
     "name": "stdout",
     "output_type": "stream",
     "text": [
      "Comments per post mean: \n",
      " Whole PostHistory: 2.4826059593578926 \n",
      " Top 100 posters: 2.6331328930784066\n"
     ]
    }
   ],
   "source": [
    "comments_per_post_by_userid.describe()\n",
    "comments_per_post_by_userid_top_100.describe()\n",
    "all_mean = comments_per_post_by_userid['Comments per Post'].mean()\n",
    "top_100_mean = comments_per_post_by_userid_top_100['Comments per Post'].mean()\n",
    "print (\"Comments per post mean: \\n Whole PostHistory: %s \\n Top 100 posters: %s\" %(all_mean, top_100_mean))"
   ]
  },
  {
   "cell_type": "markdown",
   "id": "fa722c66",
   "metadata": {},
   "source": [
    "Yes, the mean for the comments per post of the top 100 users is greater than the mean for the comments per post of all of the users who has at least a comment of and a post."
   ]
  }
 ],
 "metadata": {
  "kernelspec": {
   "display_name": "Python 3",
   "language": "python",
   "name": "python3"
  },
  "language_info": {
   "codemirror_mode": {
    "name": "ipython",
    "version": 3
   },
   "file_extension": ".py",
   "mimetype": "text/x-python",
   "name": "python",
   "nbconvert_exporter": "python",
   "pygments_lexer": "ipython3",
   "version": "3.8.8"
  }
 },
 "nbformat": 4,
 "nbformat_minor": 5
}
